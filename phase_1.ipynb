{
  "cells": [
    {
      "cell_type": "markdown",
      "metadata": {
        "id": "view-in-github",
        "colab_type": "text"
      },
      "source": [
        "<a href=\"https://colab.research.google.com/github/Rubix-av/Data-Science/blob/main/phase_1.ipynb\" target=\"_parent\"><img src=\"https://colab.research.google.com/assets/colab-badge.svg\" alt=\"Open In Colab\"/></a>"
      ]
    },
    {
      "cell_type": "code",
      "execution_count": null,
      "id": "3c6d3a87-270e-43f3-8c93-4678aa142968",
      "metadata": {
        "id": "3c6d3a87-270e-43f3-8c93-4678aa142968"
      },
      "outputs": [],
      "source": [
        "import numpy as np"
      ]
    },
    {
      "cell_type": "code",
      "execution_count": null,
      "id": "9811c671-f54a-416e-8efb-6c564f41ff04",
      "metadata": {
        "colab": {
          "base_uri": "https://localhost:8080/"
        },
        "id": "9811c671-f54a-416e-8efb-6c564f41ff04",
        "outputId": "48e2e1da-31f8-4526-b186-69a80f9de3ce"
      },
      "outputs": [
        {
          "output_type": "stream",
          "name": "stdout",
          "text": [
            "1D Array: \n",
            " [1 2 3 4 5 6]\n",
            "2D Array: \n",
            " [[1 2 3]\n",
            " [4 5 6]]\n"
          ]
        }
      ],
      "source": [
        "arr_1D = np.array([1,2,3,4,5,6])\n",
        "print(\"1D Array: \\n\", arr_1D)\n",
        "\n",
        "arr_2D = np.array([[1,2,3],[4,5,6]])\n",
        "print(\"2D Array: \\n\", arr_2D)"
      ]
    },
    {
      "cell_type": "markdown",
      "id": "d04cc419-e29c-4153-ace5-0c4506de8da9",
      "metadata": {
        "id": "d04cc419-e29c-4153-ace5-0c4506de8da9"
      },
      "source": [
        "### List vs Numpy array"
      ]
    },
    {
      "cell_type": "code",
      "execution_count": null,
      "id": "c0855215-a742-49a1-97f8-623ad1db4892",
      "metadata": {
        "colab": {
          "base_uri": "https://localhost:8080/"
        },
        "id": "c0855215-a742-49a1-97f8-623ad1db4892",
        "outputId": "402a824f-9726-4bc4-889d-8ba444e048ee"
      },
      "outputs": [
        {
          "output_type": "stream",
          "name": "stdout",
          "text": [
            "Python list multiplication [1, 2, 3, 1, 2, 3]\n",
            "Python numpy multiplication [2 4 6]\n",
            "\n",
            " List operation time: 0.3488306999206543\n",
            "\n",
            " Numpy operation time: 0.019315719604492188\n"
          ]
        }
      ],
      "source": [
        "py_list = [1,2,3]\n",
        "print(\"Python list multiplication\", py_list*2)\n",
        "\n",
        "np_array = np.array([1,2,3])\n",
        "print(\"Python numpy multiplication\", np_array*2)\n",
        "\n",
        "import time\n",
        "start = time.time()\n",
        "py_list = [i*2 for i in range(1000000)]\n",
        "print(\"\\n List operation time:\", time.time() - start)\n",
        "\n",
        "start = time.time()\n",
        "np_array = np.arange(1000000) * 2\n",
        "print(\"\\n Numpy operation time:\", time.time() - start)"
      ]
    },
    {
      "cell_type": "markdown",
      "id": "0b457a08-3d2f-46b3-8ade-5d9b40344133",
      "metadata": {
        "id": "0b457a08-3d2f-46b3-8ade-5d9b40344133"
      },
      "source": [
        "### Creating array from scratch"
      ]
    },
    {
      "cell_type": "code",
      "execution_count": null,
      "id": "be5f3597-96d9-4023-9c5e-620a9302930b",
      "metadata": {
        "colab": {
          "base_uri": "https://localhost:8080/"
        },
        "id": "be5f3597-96d9-4023-9c5e-620a9302930b",
        "outputId": "c70d3039-c731-41df-f536-19b797db6b2f"
      },
      "outputs": [
        {
          "output_type": "stream",
          "name": "stdout",
          "text": [
            "zeros array:\n",
            " [[0. 0. 0. 0.]\n",
            " [0. 0. 0. 0.]\n",
            " [0. 0. 0. 0.]]\n",
            "ones array:\n",
            " [[1. 1. 1.]\n",
            " [1. 1. 1.]]\n",
            "full array:\n",
            " [[7 7]\n",
            " [7 7]]\n",
            "random array:\n",
            " [[0.61363611 0.81317081 0.48361135]\n",
            " [0.21879198 0.01557989 0.60714757]]\n",
            "sequence array:\n",
            " [0 2 4 6 8]\n"
          ]
        }
      ],
      "source": [
        "zeros = np.zeros((3, 4))\n",
        "print(\"zeros array:\\n\", zeros)\n",
        "\n",
        "ones = np.ones((2, 3))\n",
        "print(\"ones array:\\n\", ones)\n",
        "\n",
        "full = np.full((2, 2), 7)\n",
        "print(\"full array:\\n\", full)\n",
        "\n",
        "random = np.random.random((2, 3))\n",
        "print(\"random array:\\n\", random)\n",
        "\n",
        "sequence = np.arange(0, 10, 2)\n",
        "print(\"sequence array:\\n\", sequence)"
      ]
    },
    {
      "cell_type": "markdown",
      "id": "1c91715d-1d03-4118-86ee-fdda56bf7818",
      "metadata": {
        "id": "1c91715d-1d03-4118-86ee-fdda56bf7818"
      },
      "source": [
        "### Vector, Matrix and Tensor"
      ]
    },
    {
      "cell_type": "code",
      "execution_count": null,
      "id": "0cceecbb-c923-48f3-98d2-3b25c96fa537",
      "metadata": {
        "id": "0cceecbb-c923-48f3-98d2-3b25c96fa537",
        "outputId": "46f898f8-1a3a-4e8e-e13f-f5ec69a587ef"
      },
      "outputs": [
        {
          "name": "stdout",
          "output_type": "stream",
          "text": [
            "Vector: [1 2 3]\n",
            "Matrix: [[1 2 3]\n",
            " [4 5 6]]\n",
            "Tensor: [[[1 2]\n",
            "  [3 4]]\n",
            "\n",
            " [[5 6]\n",
            "  [7 8]]]\n"
          ]
        }
      ],
      "source": [
        "vector = np.array([1, 2, 3])\n",
        "print(\"Vector:\", vector)\n",
        "\n",
        "matrix = np.array([[1, 2, 3],\n",
        "                   [4, 5, 6]])\n",
        "print(\"Matrix:\", matrix)\n",
        "\n",
        "tensor = np.array([[[1, 2], [3, 4]],\n",
        "                   [[5, 6], [7, 8]]])\n",
        "print(\"Tensor:\", tensor)"
      ]
    },
    {
      "cell_type": "markdown",
      "id": "8216f335-6e18-42a1-8824-42159eb83015",
      "metadata": {
        "id": "8216f335-6e18-42a1-8824-42159eb83015"
      },
      "source": [
        "### Array Properties"
      ]
    },
    {
      "cell_type": "code",
      "execution_count": null,
      "id": "1036d3ba-8036-4abd-a0c2-5df261c2765f",
      "metadata": {
        "colab": {
          "base_uri": "https://localhost:8080/"
        },
        "id": "1036d3ba-8036-4abd-a0c2-5df261c2765f",
        "outputId": "00c7c88a-5b8d-4a53-e17a-778d1be73304"
      },
      "outputs": [
        {
          "output_type": "stream",
          "name": "stdout",
          "text": [
            "Shape (2, 3)\n",
            "Dimension 2\n",
            "Size 6\n",
            "DType int64\n"
          ]
        }
      ],
      "source": [
        "arr = np.array([[1, 2, 3],\n",
        "                [4, 5, 6]])\n",
        "print(\"Shape\", arr.shape)\n",
        "print(\"Dimension\", arr.ndim)\n",
        "print(\"Size\", arr.size)\n",
        "print(\"DType\", arr.dtype)"
      ]
    },
    {
      "cell_type": "markdown",
      "source": [
        "### Array Reshaping"
      ],
      "metadata": {
        "id": "YhBwVtaiiHiK"
      },
      "id": "YhBwVtaiiHiK"
    },
    {
      "cell_type": "code",
      "source": [
        "arr = np.arange(12)\n",
        "print(\"Original array \", arr)\n",
        "\n",
        "reshaped = arr.reshape((3, 4))\n",
        "print(\"Reshaped array \", reshaped)\n",
        "\n",
        "# returns a copy\n",
        "flattened = reshaped.flatten()\n",
        "print(\"Flattened array \", flattened)\n",
        "\n",
        "# returns original array\n",
        "raveled = reshaped.ravel()\n",
        "print(\"Raveled array \", raveled)\n",
        "\n",
        "# Transpose\n",
        "transpose = reshaped.T\n",
        "print(\"Transposed array \", transpose)"
      ],
      "metadata": {
        "colab": {
          "base_uri": "https://localhost:8080/"
        },
        "id": "GgCZ29_Zjv2U",
        "outputId": "3656963e-91b6-4ba7-a0d5-c3ec610354fa"
      },
      "id": "GgCZ29_Zjv2U",
      "execution_count": null,
      "outputs": [
        {
          "output_type": "stream",
          "name": "stdout",
          "text": [
            "Original array  [ 0  1  2  3  4  5  6  7  8  9 10 11]\n",
            "Reshaped array  [[ 0  1  2  3]\n",
            " [ 4  5  6  7]\n",
            " [ 8  9 10 11]]\n",
            "Flattened array  [ 0  1  2  3  4  5  6  7  8  9 10 11]\n",
            "Raveled array  [ 0  1  2  3  4  5  6  7  8  9 10 11]\n",
            "Transposed array  [[ 0  4  8]\n",
            " [ 1  5  9]\n",
            " [ 2  6 10]\n",
            " [ 3  7 11]]\n"
          ]
        }
      ]
    },
    {
      "cell_type": "code",
      "source": [],
      "metadata": {
        "id": "OW2G369ykQ5W"
      },
      "id": "OW2G369ykQ5W",
      "execution_count": null,
      "outputs": []
    }
  ],
  "metadata": {
    "kernelspec": {
      "display_name": "Python 3 (ipykernel)",
      "language": "python",
      "name": "python3"
    },
    "language_info": {
      "codemirror_mode": {
        "name": "ipython",
        "version": 3
      },
      "file_extension": ".py",
      "mimetype": "text/x-python",
      "name": "python",
      "nbconvert_exporter": "python",
      "pygments_lexer": "ipython3",
      "version": "3.12.1"
    },
    "colab": {
      "provenance": [],
      "include_colab_link": true
    }
  },
  "nbformat": 4,
  "nbformat_minor": 5
}