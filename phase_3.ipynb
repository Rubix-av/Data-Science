{
  "nbformat": 4,
  "nbformat_minor": 0,
  "metadata": {
    "colab": {
      "provenance": [],
      "authorship_tag": "ABX9TyMX/mJXaTYggVKyHv2sCZ0F",
      "include_colab_link": true
    },
    "kernelspec": {
      "name": "python3",
      "display_name": "Python 3"
    },
    "language_info": {
      "name": "python"
    }
  },
  "cells": [
    {
      "cell_type": "markdown",
      "metadata": {
        "id": "view-in-github",
        "colab_type": "text"
      },
      "source": [
        "<a href=\"https://colab.research.google.com/github/Rubix-av/Numpy/blob/main/phase_3.ipynb\" target=\"_parent\"><img src=\"https://colab.research.google.com/assets/colab-badge.svg\" alt=\"Open In Colab\"/></a>"
      ]
    },
    {
      "cell_type": "code",
      "source": [
        "import numpy as np\n",
        "import matplotlib.pyplot as plt"
      ],
      "metadata": {
        "id": "22uQwJc5lj6G"
      },
      "execution_count": null,
      "outputs": []
    },
    {
      "cell_type": "code",
      "execution_count": null,
      "metadata": {
        "id": "sDDz5J17uXRu",
        "colab": {
          "base_uri": "https://localhost:8080/"
        },
        "outputId": "0dcf1270-cdc7-4d3b-b8e6-400cc9ee0fe8"
      },
      "outputs": [
        {
          "output_type": "stream",
          "name": "stdout",
          "text": [
            "====== Zomato Sales Analysis ======\n"
          ]
        }
      ],
      "source": [
        "# Data structure: [restaurant_id, 2021, 2022, 2023, 2024]\n",
        "sales_data = np.array([\n",
        "    [1, 150000, 180000, 220000, 250000],  # Paradise Biryani\n",
        "    [2, 120000, 140000, 160000, 190000],  # Beijing Bites\n",
        "    [3, 200000, 230000, 260000, 300000],  # Pizza Hub\n",
        "    [4, 180000, 210000, 240000, 270000],  # Burger Point\n",
        "    [5, 160000, 185000, 205000, 230000]   # Chai Point\n",
        "])\n",
        "\n",
        "print(\"====== Zomato Sales Analysis ======\")"
      ]
    },
    {
      "cell_type": "code",
      "source": [
        "# shape of data\n",
        "sales_data.shape"
      ],
      "metadata": {
        "colab": {
          "base_uri": "https://localhost:8080/"
        },
        "id": "ygAMJLobl6BJ",
        "outputId": "0a41dbc3-ada2-48b9-bd87-d0f6c9e930f4"
      },
      "execution_count": null,
      "outputs": [
        {
          "output_type": "execute_result",
          "data": {
            "text/plain": [
              "(5, 5)"
            ]
          },
          "metadata": {},
          "execution_count": 4
        }
      ]
    },
    {
      "cell_type": "code",
      "source": [
        "# sample data of first 3 restaurants\n",
        "print(sales_data[0:3])"
      ],
      "metadata": {
        "colab": {
          "base_uri": "https://localhost:8080/"
        },
        "id": "Un7Qhc2Ul9Mt",
        "outputId": "d9a576b8-da1c-4d1f-9936-1a6a5e6310a3"
      },
      "execution_count": null,
      "outputs": [
        {
          "output_type": "stream",
          "name": "stdout",
          "text": [
            "[[     1 150000 180000 220000 250000]\n",
            " [     2 120000 140000 160000 190000]\n",
            " [     3 200000 230000 260000 300000]]\n"
          ]
        }
      ]
    },
    {
      "cell_type": "code",
      "source": [
        "# total sales per year\n",
        "print(np.sum(sales_data[:, 1:]))"
      ],
      "metadata": {
        "id": "UaPCuAZXmKrT",
        "colab": {
          "base_uri": "https://localhost:8080/"
        },
        "outputId": "141013f4-daa7-4536-996b-0f1d82bd4284"
      },
      "execution_count": 7,
      "outputs": [
        {
          "output_type": "stream",
          "name": "stdout",
          "text": [
            "4080000\n"
          ]
        }
      ]
    },
    {
      "cell_type": "code",
      "source": [
        "# minimum sales per restaurant\n",
        "min_sales = np.min(sales_data[:, 1:], axis=1)\n",
        "print(min_sales)"
      ],
      "metadata": {
        "colab": {
          "base_uri": "https://localhost:8080/"
        },
        "id": "R0IGzHxOVFbm",
        "outputId": "a413bee9-df22-48ce-b147-1850550fd002"
      },
      "execution_count": 9,
      "outputs": [
        {
          "output_type": "stream",
          "name": "stdout",
          "text": [
            "[150000 120000 200000 180000 160000]\n"
          ]
        }
      ]
    },
    {
      "cell_type": "code",
      "source": [
        "# maximum sales per year\n",
        "max_sales = np.max(sales_data[:, 1:], axis=0)\n",
        "print(max_sales)"
      ],
      "metadata": {
        "colab": {
          "base_uri": "https://localhost:8080/"
        },
        "id": "Wscia9oXZpJX",
        "outputId": "a266fe16-94c1-4324-e993-08755ce83cc2"
      },
      "execution_count": 14,
      "outputs": [
        {
          "output_type": "stream",
          "name": "stdout",
          "text": [
            "[200000 230000 260000 300000]\n"
          ]
        }
      ]
    },
    {
      "cell_type": "code",
      "source": [
        "# average sales per restaurant\n",
        "avg_sales = np.mean(sales_data[:, 1:], axis=1)\n",
        "print(avg_sales)"
      ],
      "metadata": {
        "colab": {
          "base_uri": "https://localhost:8080/"
        },
        "id": "H8sxwaIOuKLY",
        "outputId": "a4f328ae-3fa8-42d3-bbaf-d1780c5d0376"
      },
      "execution_count": 16,
      "outputs": [
        {
          "output_type": "stream",
          "name": "stdout",
          "text": [
            "[200000. 152500. 247500. 225000. 195000.]\n"
          ]
        }
      ]
    },
    {
      "cell_type": "code",
      "source": [
        "cumsum = np.cumsum(sales_data[:, 1:], axis=1)\n",
        "print(cumsum)"
      ],
      "metadata": {
        "colab": {
          "base_uri": "https://localhost:8080/"
        },
        "id": "sKJnvF9Kujbh",
        "outputId": "26913273-2956-474f-a9e2-8b57fb6e10b7"
      },
      "execution_count": 19,
      "outputs": [
        {
          "output_type": "stream",
          "name": "stdout",
          "text": [
            "[[150000 330000 550000 800000]\n",
            " [120000 260000 420000 610000]\n",
            " [200000 430000 690000 990000]\n",
            " [180000 390000 630000 900000]\n",
            " [160000 345000 550000 780000]]\n"
          ]
        }
      ]
    },
    {
      "cell_type": "code",
      "source": [
        "plt.figure(figsize=(8, 6))\n",
        "plt.plot(np.mean(cumsum, axis=0))\n",
        "plt.title(\"Average cumulative sales across all restaurants\")\n",
        "plt.xlabel(\"Years\")\n",
        "plt.ylabel(\"Sales\")\n",
        "plt.show()"
      ],
      "metadata": {
        "colab": {
          "base_uri": "https://localhost:8080/",
          "height": 564
        },
        "id": "XB60oyKou7wA",
        "outputId": "7e5e753a-8689-4e41-f46c-791cf1d159a9"
      },
      "execution_count": 21,
      "outputs": [
        {
          "output_type": "display_data",
          "data": {
            "text/plain": [
              "<Figure size 800x600 with 1 Axes>"
            ],
            "image/png": "[encoded data removed]"
          },
          "metadata": {}
        }
      ]
    },
    {
      "cell_type": "code",
      "source": [
        "vector1 = np.array([1, 2, 3, 4, 5])\n",
        "vector2 = np.array([6, 7, 8, 9, 10])\n",
        "\n",
        "print(\"Vector addition:\", vector1 + vector2)\n",
        "print(\"\\n Multiplication of Vector:\", vector1 * vector2)\n",
        "print(\"\\n Dot Product:\", np.dot(vector1, vector2))\n",
        "\n",
        "angle = np.arccos(np.dot(vector1, vector2) / (np.linalg.norm(vector1) * np.linalg.norm(vector2)))\n",
        "print(angle)"
      ],
      "metadata": {
        "colab": {
          "base_uri": "https://localhost:8080/"
        },
        "id": "Ugx0V8RVv4bB",
        "outputId": "e62b66b9-ab50-41e2-ab73-f228856a6e02"
      },
      "execution_count": 27,
      "outputs": [
        {
          "output_type": "stream",
          "name": "stdout",
          "text": [
            "Vector addition: [ 7  9 11 13 15]\n",
            "\n",
            " Multiplication of Vector: [ 6 14 24 36 50]\n",
            "\n",
            " Dot Product: 130\n",
            "0.26554161733900966\n"
          ]
        }
      ]
    },
    {
      "cell_type": "code",
      "source": [
        "restaurant_types = np.array(['biryani', 'chinese', 'pizza', 'burger', 'cafe'])\n",
        "vectorized_upper = np.vectorize(str.upper)\n",
        "print(\"Vectorized Upper:\", vectorized_upper(restaurant_types))"
      ],
      "metadata": {
        "colab": {
          "base_uri": "https://localhost:8080/"
        },
        "id": "PveXY9X7w1Y5",
        "outputId": "3cc88295-7045-4acc-aa27-5e4d1621de26"
      },
      "execution_count": 28,
      "outputs": [
        {
          "output_type": "stream",
          "name": "stdout",
          "text": [
            "Vectorized Upper: ['BIRYANI' 'CHINESE' 'PIZZA' 'BURGER' 'CAFE']\n"
          ]
        }
      ]
    },
    {
      "cell_type": "code",
      "source": [],
      "metadata": {
        "id": "EK4bFquOx3jv"
      },
      "execution_count": null,
      "outputs": []
    }
  ]
}