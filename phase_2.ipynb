{
  "nbformat": 4,
  "nbformat_minor": 0,
  "metadata": {
    "colab": {
      "provenance": [],
      "authorship_tag": "ABX9TyOsN3kCFFCH+8OOz3shbj/m",
      "include_colab_link": true
    },
    "kernelspec": {
      "name": "python3",
      "display_name": "Python 3"
    },
    "language_info": {
      "name": "python"
    }
  },
  "cells": [
    {
      "cell_type": "markdown",
      "metadata": {
        "id": "view-in-github",
        "colab_type": "text"
      },
      "source": [
        "<a href=\"https://colab.research.google.com/github/Rubix-av/Numpy/blob/main/phase_2.ipynb\" target=\"_parent\"><img src=\"https://colab.research.google.com/assets/colab-badge.svg\" alt=\"Open In Colab\"/></a>"
      ]
    },
    {
      "cell_type": "markdown",
      "source": [
        "### Numpy Array Operations"
      ],
      "metadata": {
        "id": "ORS-qHHEnATY"
      }
    },
    {
      "cell_type": "code",
      "execution_count": 1,
      "metadata": {
        "id": "99fWimiXm9r1"
      },
      "outputs": [],
      "source": [
        "import numpy as np"
      ]
    },
    {
      "cell_type": "code",
      "source": [
        "arr = np.arange(1, 11)\n",
        "print(\"Basic Slicing\", arr[2:7])\n",
        "print(\"With Step\", arr[1:8:2])\n",
        "print(\"Negative Indexing\", arr[-3])"
      ],
      "metadata": {
        "colab": {
          "base_uri": "https://localhost:8080/"
        },
        "id": "tZsOUusQnEyr",
        "outputId": "4f832c41-9043-4029-d004-d704ba604a71"
      },
      "execution_count": 6,
      "outputs": [
        {
          "output_type": "stream",
          "name": "stdout",
          "text": [
            "Basic Slicing [3 4 5 6 7]\n",
            "With Step [2 4 6 8]\n",
            "Negative Indexing 8\n"
          ]
        }
      ]
    },
    {
      "cell_type": "code",
      "source": [
        "arr_2d = np.array([[1, 2, 3],\n",
        "                   [4, 5, 6],\n",
        "                   [7, 8, 9]])\n",
        "print(\"Specific element\", arr_2d[1, 2])\n",
        "print(\"Entire row\", arr_2d[1])\n",
        "print(\"Entire row\", arr_2d[:, 1])"
      ],
      "metadata": {
        "colab": {
          "base_uri": "https://localhost:8080/"
        },
        "id": "E84BT1zJnUSs",
        "outputId": "638c1b00-8e56-4d96-cfee-97946bbb205a"
      },
      "execution_count": 10,
      "outputs": [
        {
          "output_type": "stream",
          "name": "stdout",
          "text": [
            "Specific element 6\n",
            "Entire row [4 5 6]\n",
            "Entire row [2 5 8]\n"
          ]
        }
      ]
    },
    {
      "cell_type": "markdown",
      "source": [
        "### Sorting"
      ],
      "metadata": {
        "id": "AFXteRKpn2x0"
      }
    },
    {
      "cell_type": "code",
      "source": [
        "unsorted = np.array([3, 1, 4, 1, 5, 9, 2, 6])\n",
        "print(\"Sorted Array\", np.sort(unsorted))\n",
        "\n",
        "arr_2d_unsorted = np.array([[3, 1], [1, 2], [2, 3]])\n",
        "print(\"Sorted 2D array by column \\n\", np.sort(arr_2d_unsorted, axis=0))"
      ],
      "metadata": {
        "colab": {
          "base_uri": "https://localhost:8080/"
        },
        "id": "4YE7VwCfoO-F",
        "outputId": "a381e656-3c2a-4209-d923-8932d6e58e7a"
      },
      "execution_count": 15,
      "outputs": [
        {
          "output_type": "stream",
          "name": "stdout",
          "text": [
            "Sorted Array [1 1 2 3 4 5 6 9]\n",
            "Sorted 2D array by column \n",
            " [[1 1]\n",
            " [2 2]\n",
            " [3 3]]\n"
          ]
        }
      ]
    },
    {
      "cell_type": "markdown",
      "source": [
        "### Filtering"
      ],
      "metadata": {
        "id": "_dJHnPMCpFE2"
      }
    },
    {
      "cell_type": "code",
      "source": [
        "numbers = np.arange(1, 11)\n",
        "even_numbers = numbers[numbers % 2 == 0]\n",
        "print(\"Even Numbers\", even_numbers)"
      ],
      "metadata": {
        "colab": {
          "base_uri": "https://localhost:8080/"
        },
        "id": "7rY4bnltpHzs",
        "outputId": "314281ff-67b6-406f-c450-2ce5c72722bd"
      },
      "execution_count": 17,
      "outputs": [
        {
          "output_type": "stream",
          "name": "stdout",
          "text": [
            "Even Numbers [ 2  4  6  8 10]\n"
          ]
        }
      ]
    },
    {
      "cell_type": "markdown",
      "source": [
        "### Filter with mask"
      ],
      "metadata": {
        "id": "7Kj54FFXpgAq"
      }
    },
    {
      "cell_type": "code",
      "source": [
        "mask = numbers > 5\n",
        "print(\"Numbers greater than 5\", numbers[mask])"
      ],
      "metadata": {
        "colab": {
          "base_uri": "https://localhost:8080/"
        },
        "id": "ROoFZK-jphvo",
        "outputId": "6be84b0b-ff88-43ed-9ec6-4c814a69cecc"
      },
      "execution_count": 18,
      "outputs": [
        {
          "output_type": "stream",
          "name": "stdout",
          "text": [
            "Numbers greater than 5 [ 6  7  8  9 10]\n"
          ]
        }
      ]
    },
    {
      "cell_type": "markdown",
      "source": [
        "### Fancy Indexing vs np.where()"
      ],
      "metadata": {
        "id": "UmgAH65tpstE"
      }
    },
    {
      "cell_type": "code",
      "source": [
        "numbers = np.arange(1, 11)\n",
        "\n",
        "indices = [0, 2, 4]\n",
        "print(numbers[indices])\n",
        "\n",
        "where_result = np.where(numbers > 5)\n",
        "print(\"NP where\", where_result)"
      ],
      "metadata": {
        "colab": {
          "base_uri": "https://localhost:8080/"
        },
        "id": "Hlg256sAp37Z",
        "outputId": "02803542-7e6d-4079-c1df-4065bfa52a53"
      },
      "execution_count": 22,
      "outputs": [
        {
          "output_type": "stream",
          "name": "stdout",
          "text": [
            "[1 3 5]\n",
            "NP where (array([5, 6, 7, 8, 9]),)\n"
          ]
        }
      ]
    },
    {
      "cell_type": "code",
      "source": [
        "condition_array = np.where(numbers > 5, numbers*2, numbers)\n",
        "print(condition_array)"
      ],
      "metadata": {
        "colab": {
          "base_uri": "https://localhost:8080/"
        },
        "id": "QYFDmNthqZDW",
        "outputId": "f5cb72f8-885e-42f9-c08e-743757186dab"
      },
      "execution_count": 25,
      "outputs": [
        {
          "output_type": "stream",
          "name": "stdout",
          "text": [
            "[ 1  2  3  4  5 12 14 16 18 20]\n"
          ]
        }
      ]
    },
    {
      "cell_type": "markdown",
      "source": [
        "### Adding and removing data"
      ],
      "metadata": {
        "id": "K1izluqHreGb"
      }
    },
    {
      "cell_type": "code",
      "source": [
        "arr1 = np.array([1, 2, 3])\n",
        "arr2 = np.array([4, 5, 6])\n",
        "\n",
        "combined = np.concatenate((arr1, arr2))\n",
        "print(combined)"
      ],
      "metadata": {
        "colab": {
          "base_uri": "https://localhost:8080/"
        },
        "id": "nmu0slbLrg2K",
        "outputId": "2fa4e235-84b4-444d-a2f6-554f5adf013a"
      },
      "execution_count": 28,
      "outputs": [
        {
          "output_type": "stream",
          "name": "stdout",
          "text": [
            "[1 2 3 4 5 6]\n"
          ]
        }
      ]
    },
    {
      "cell_type": "markdown",
      "source": [
        "### Array compatibility"
      ],
      "metadata": {
        "id": "2_CLP-tqr9ks"
      }
    },
    {
      "cell_type": "code",
      "source": [
        "a = np.array([1, 2, 3])\n",
        "b = np.array([4, 5, 6])\n",
        "c = np.array([7, 8, 9])\n",
        "\n",
        "print(\"Compatibility shapes\", a.shape == b.shape)"
      ],
      "metadata": {
        "colab": {
          "base_uri": "https://localhost:8080/"
        },
        "id": "X8HeacJNsBAQ",
        "outputId": "84039936-ad07-4350-b5ce-20bd30379eeb"
      },
      "execution_count": 31,
      "outputs": [
        {
          "output_type": "stream",
          "name": "stdout",
          "text": [
            "Compatibility shapes True\n"
          ]
        }
      ]
    },
    {
      "cell_type": "code",
      "source": [
        "original = np.array([[1, 2], [3, 4]])\n",
        "new_row = np.array([[5, 6]])\n",
        "\n",
        "with_new_row = np.vstack((original, new_row))\n",
        "print(original, \"\\n\")\n",
        "print(with_new_row)\n",
        "\n",
        "new_col = np.array([[7], [8]])\n",
        "with_new_col = np.hstack((original, new_col))\n",
        "print(\"\\n\", with_new_col)"
      ],
      "metadata": {
        "colab": {
          "base_uri": "https://localhost:8080/"
        },
        "id": "pHUY6NghsUSt",
        "outputId": "f7d4214f-50c3-4a2b-a7c1-7e3fbd055dcd"
      },
      "execution_count": 39,
      "outputs": [
        {
          "output_type": "stream",
          "name": "stdout",
          "text": [
            "[[1 2]\n",
            " [3 4]] \n",
            "\n",
            "[[1 2]\n",
            " [3 4]\n",
            " [5 6]]\n",
            "\n",
            " [[1 2 7]\n",
            " [3 4 8]]\n"
          ]
        }
      ]
    },
    {
      "cell_type": "code",
      "source": [
        "arr = np.array([1, 2, 3, 4, 5])\n",
        "deleted = np.delete(arr, 2)\n",
        "print(\"Array after deletion\", deleted)"
      ],
      "metadata": {
        "colab": {
          "base_uri": "https://localhost:8080/"
        },
        "id": "cezhQpjmtRSA",
        "outputId": "271fe9f4-08ec-4d44-d06f-d9fdb1be8edb"
      },
      "execution_count": 42,
      "outputs": [
        {
          "output_type": "stream",
          "name": "stdout",
          "text": [
            "Array after deletion [1 2 4 5]\n"
          ]
        }
      ]
    }
  ]
}